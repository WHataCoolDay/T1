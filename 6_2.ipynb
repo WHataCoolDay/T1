{
  "nbformat": 4,
  "nbformat_minor": 0,
  "metadata": {
    "colab": {
      "name": "6_2",
      "provenance": [],
      "authorship_tag": "ABX9TyOJW5CMEwnOF8/pWbQVysw7",
      "include_colab_link": true
    },
    "kernelspec": {
      "name": "python3",
      "display_name": "Python 3"
    },
    "language_info": {
      "name": "python"
    }
  },
  "cells": [
    {
      "cell_type": "markdown",
      "metadata": {
        "id": "view-in-github",
        "colab_type": "text"
      },
      "source": [
        "<a href=\"https://colab.research.google.com/github/WHataCoolDay/T1/blob/main/6_2.ipynb\" target=\"_parent\"><img src=\"https://colab.research.google.com/assets/colab-badge.svg\" alt=\"Open In Colab\"/></a>"
      ]
    },
    {
      "cell_type": "code",
      "metadata": {
        "id": "Mi7qHsQUjRtZ",
        "colab": {
          "base_uri": "https://localhost:8080/",
          "height": 288
        },
        "outputId": "35fcb562-1430-4206-ec2a-6ba7fde948eb"
      },
      "source": [
        "# 넘파이로 구현한 간단한 RNN\n",
        "\n",
        "import numpy as np\n",
        "\n",
        "timesteps = 100\n",
        "input_features = 32\n",
        "output_features = 64\n",
        "\n",
        "inputs = np.random.random((timesteps, input_features))\n",
        "\n",
        "state_t = np.zeros((output_features,))\n",
        "\n",
        "W = np.random.random((output_features, input_features))\n",
        "U = np.random.random((output_features, input_features))\n",
        "b = np.random.random((output_features, ))\n",
        "\n",
        "successive_outputs = []\n",
        "for input_t in inputs:\n",
        "  output_t = np.tanh(np.dot(W,input_t)+ np.dot(U, state_t)+ b)\n",
        "  successive_outputs.append(output_t)\n",
        "  state_t = output_t\n",
        "\n",
        "final_output_sequence = np.stack(successive_outputs, axis = 0)"
      ],
      "execution_count": null,
      "outputs": [
        {
          "output_type": "error",
          "ename": "ValueError",
          "evalue": "ignored",
          "traceback": [
            "\u001b[0;31m---------------------------------------------------------------------------\u001b[0m",
            "\u001b[0;31mValueError\u001b[0m                                Traceback (most recent call last)",
            "\u001b[0;32m<ipython-input-2-6914f4aa633f>\u001b[0m in \u001b[0;36m<module>\u001b[0;34m()\u001b[0m\n\u001b[1;32m     17\u001b[0m \u001b[0msuccessive_outputs\u001b[0m \u001b[0;34m=\u001b[0m \u001b[0;34m[\u001b[0m\u001b[0;34m]\u001b[0m\u001b[0;34m\u001b[0m\u001b[0;34m\u001b[0m\u001b[0m\n\u001b[1;32m     18\u001b[0m \u001b[0;32mfor\u001b[0m \u001b[0minput_t\u001b[0m \u001b[0;32min\u001b[0m \u001b[0minputs\u001b[0m\u001b[0;34m:\u001b[0m\u001b[0;34m\u001b[0m\u001b[0;34m\u001b[0m\u001b[0m\n\u001b[0;32m---> 19\u001b[0;31m   \u001b[0moutput_t\u001b[0m \u001b[0;34m=\u001b[0m \u001b[0mnp\u001b[0m\u001b[0;34m.\u001b[0m\u001b[0mtanh\u001b[0m\u001b[0;34m(\u001b[0m\u001b[0mnp\u001b[0m\u001b[0;34m.\u001b[0m\u001b[0mdot\u001b[0m\u001b[0;34m(\u001b[0m\u001b[0mW\u001b[0m\u001b[0;34m,\u001b[0m\u001b[0minput_t\u001b[0m\u001b[0;34m)\u001b[0m\u001b[0;34m+\u001b[0m \u001b[0mnp\u001b[0m\u001b[0;34m.\u001b[0m\u001b[0mdot\u001b[0m\u001b[0;34m(\u001b[0m\u001b[0mU\u001b[0m\u001b[0;34m,\u001b[0m \u001b[0mstate_t\u001b[0m\u001b[0;34m)\u001b[0m\u001b[0;34m+\u001b[0m \u001b[0mb\u001b[0m\u001b[0;34m)\u001b[0m\u001b[0;34m\u001b[0m\u001b[0;34m\u001b[0m\u001b[0m\n\u001b[0m\u001b[1;32m     20\u001b[0m   \u001b[0msuccessive_outputs\u001b[0m\u001b[0;34m.\u001b[0m\u001b[0mappend\u001b[0m\u001b[0;34m(\u001b[0m\u001b[0moutput_t\u001b[0m\u001b[0;34m)\u001b[0m\u001b[0;34m\u001b[0m\u001b[0;34m\u001b[0m\u001b[0m\n\u001b[1;32m     21\u001b[0m   \u001b[0mstate_t\u001b[0m \u001b[0;34m=\u001b[0m \u001b[0moutput_t\u001b[0m\u001b[0;34m\u001b[0m\u001b[0;34m\u001b[0m\u001b[0m\n",
            "\u001b[0;32m<__array_function__ internals>\u001b[0m in \u001b[0;36mdot\u001b[0;34m(*args, **kwargs)\u001b[0m\n",
            "\u001b[0;31mValueError\u001b[0m: shapes (64,32) and (64,) not aligned: 32 (dim 1) != 64 (dim 0)"
          ]
        }
      ]
    },
    {
      "cell_type": "code",
      "metadata": {
        "colab": {
          "base_uri": "https://localhost:8080/"
        },
        "id": "MNj7ZKoKj8WU",
        "outputId": "b77e68ab-77f4-48dc-e16d-9aa3e3611d5c"
      },
      "source": [
        "from keras.models import Sequential\n",
        "from keras.layers import Embedding, SimpleRNN\n",
        "model = Sequential()\n",
        "model.add(Embedding(10000,32))\n",
        "model.add(SimpleRNN(32))\n",
        "model.summary()"
      ],
      "execution_count": null,
      "outputs": [
        {
          "output_type": "stream",
          "text": [
            "Model: \"sequential\"\n",
            "_________________________________________________________________\n",
            "Layer (type)                 Output Shape              Param #   \n",
            "=================================================================\n",
            "embedding (Embedding)        (None, None, 32)          320000    \n",
            "_________________________________________________________________\n",
            "simple_rnn (SimpleRNN)       (None, 32)                2080      \n",
            "=================================================================\n",
            "Total params: 322,080\n",
            "Trainable params: 322,080\n",
            "Non-trainable params: 0\n",
            "_________________________________________________________________\n"
          ],
          "name": "stdout"
        }
      ]
    },
    {
      "cell_type": "code",
      "metadata": {
        "colab": {
          "base_uri": "https://localhost:8080/"
        },
        "id": "EqsaSW55mKOk",
        "outputId": "fbef15f7-4f92-4216-a03e-fe40432428c4"
      },
      "source": [
        "# 6-22 IMDB 데이터 전처리하기\n",
        "from keras.datasets import imdb\n",
        "from keras.preprocessing import sequence\n",
        "\n",
        "max_features = 10000\n",
        "maxlen = 500\n",
        "batch_size = 32\n",
        "\n",
        "print('데이터 로딩...')\n",
        "(input_train, y_train),(input_test, y_test) = imdb.load_data( num_words = max_features)\n",
        "print(len(input_train), '훈련 시퀀스')\n",
        "print(len(input_test), '테스트 시퀀스')\n",
        "\n",
        "print('시퀀스 패딩 (sample x time)')\n",
        "input_train = sequence.pad_sequences(input_train, maxlen = maxlen)\n",
        "input_test = sequence.pad_sequences(input_test, maxlen = maxlen)\n",
        "print('input_train 크기: ', input_train.shape)\n",
        "print('input_test 크기: ', input_test.shape)"
      ],
      "execution_count": null,
      "outputs": [
        {
          "output_type": "stream",
          "text": [
            "데이터 로딩...\n",
            "Downloading data from https://storage.googleapis.com/tensorflow/tf-keras-datasets/imdb.npz\n",
            "17465344/17464789 [==============================] - 0s 0us/step\n",
            "17473536/17464789 [==============================] - 0s 0us/step\n"
          ],
          "name": "stdout"
        },
        {
          "output_type": "stream",
          "text": [
            "<string>:6: VisibleDeprecationWarning: Creating an ndarray from ragged nested sequences (which is a list-or-tuple of lists-or-tuples-or ndarrays with different lengths or shapes) is deprecated. If you meant to do this, you must specify 'dtype=object' when creating the ndarray\n",
            "/usr/local/lib/python3.7/dist-packages/keras/datasets/imdb.py:155: VisibleDeprecationWarning: Creating an ndarray from ragged nested sequences (which is a list-or-tuple of lists-or-tuples-or ndarrays with different lengths or shapes) is deprecated. If you meant to do this, you must specify 'dtype=object' when creating the ndarray\n",
            "  x_train, y_train = np.array(xs[:idx]), np.array(labels[:idx])\n",
            "/usr/local/lib/python3.7/dist-packages/keras/datasets/imdb.py:156: VisibleDeprecationWarning: Creating an ndarray from ragged nested sequences (which is a list-or-tuple of lists-or-tuples-or ndarrays with different lengths or shapes) is deprecated. If you meant to do this, you must specify 'dtype=object' when creating the ndarray\n",
            "  x_test, y_test = np.array(xs[idx:]), np.array(labels[idx:])\n"
          ],
          "name": "stderr"
        },
        {
          "output_type": "stream",
          "text": [
            "25000 훈련 시퀀스\n",
            "25000 테스트 시퀀스\n",
            "시퀀스 패딩 (sample x time)\n",
            "input_train 크기:  (25000, 500)\n",
            "input_test 크기:  (25000, 500)\n"
          ],
          "name": "stdout"
        }
      ]
    },
    {
      "cell_type": "code",
      "metadata": {
        "colab": {
          "base_uri": "https://localhost:8080/"
        },
        "id": "A61tG3cHnIZ1",
        "outputId": "74036877-ae3e-414b-c2e0-00f4b3656507"
      },
      "source": [
        "# 6-23 Embedding 층과 SimpleRNN 층을 사용한 모델 훈련하기\n",
        "from keras.layers import Dense\n",
        "\n",
        "model = Sequential()\n",
        "model.add(Embedding(max_features, 32))\n",
        "model.add(SimpleRNN(32))\n",
        "model.add(Dense(1, activation = 'sigmoid'))\n",
        "\n",
        "model.compile(optimizer = 'rmsprop', loss='binary_crossentropy', metrics = ['acc'])\n",
        "history = model.fit(input_train, y_train, epochs = 10, batch_size = 128, validation_split = 0.2)"
      ],
      "execution_count": null,
      "outputs": [
        {
          "output_type": "stream",
          "text": [
            "Epoch 1/10\n",
            "157/157 [==============================] - 46s 157ms/step - loss: 0.6529 - acc: 0.5959 - val_loss: 0.4068 - val_acc: 0.8264\n",
            "Epoch 2/10\n",
            "157/157 [==============================] - 24s 152ms/step - loss: 0.3634 - acc: 0.8516 - val_loss: 0.7618 - val_acc: 0.6994\n",
            "Epoch 3/10\n",
            "157/157 [==============================] - 24s 154ms/step - loss: 0.2711 - acc: 0.8977 - val_loss: 0.4751 - val_acc: 0.8058\n",
            "Epoch 4/10\n",
            "157/157 [==============================] - 24s 153ms/step - loss: 0.2095 - acc: 0.9229 - val_loss: 0.3395 - val_acc: 0.8688\n",
            "Epoch 5/10\n",
            "157/157 [==============================] - 24s 153ms/step - loss: 0.1535 - acc: 0.9434 - val_loss: 0.3865 - val_acc: 0.8462\n",
            "Epoch 6/10\n",
            "157/157 [==============================] - 24s 154ms/step - loss: 0.0958 - acc: 0.9698 - val_loss: 0.3965 - val_acc: 0.8630\n",
            "Epoch 7/10\n",
            "157/157 [==============================] - 24s 153ms/step - loss: 0.0615 - acc: 0.9807 - val_loss: 0.4651 - val_acc: 0.8380\n",
            "Epoch 8/10\n",
            "157/157 [==============================] - 24s 152ms/step - loss: 0.0385 - acc: 0.9894 - val_loss: 0.5190 - val_acc: 0.8348\n",
            "Epoch 9/10\n",
            "157/157 [==============================] - 24s 152ms/step - loss: 0.0225 - acc: 0.9948 - val_loss: 0.5720 - val_acc: 0.8238\n",
            "Epoch 10/10\n",
            "157/157 [==============================] - 24s 153ms/step - loss: 0.0193 - acc: 0.9946 - val_loss: 0.6636 - val_acc: 0.7934\n"
          ],
          "name": "stdout"
        }
      ]
    },
    {
      "cell_type": "code",
      "metadata": {
        "colab": {
          "base_uri": "https://localhost:8080/",
          "height": 545
        },
        "id": "sJPYH5TEn6xx",
        "outputId": "82c568a5-b04c-4bba-a391-973ab48e66bc"
      },
      "source": [
        "# 6-24 결과 그래프 그리기\n",
        "import matplotlib.pyplot as plt\n",
        "\n",
        "acc = history.history['acc']\n",
        "val_acc = history.history['val_acc']\n",
        "loss = history.history['loss']\n",
        "val_loss = history.history['val_loss']\n",
        "\n",
        "epochs = range(1,len(acc)+1)\n",
        "\n",
        "plt.plot(epochs, acc,'bo',label = 'Training acc')\n",
        "plt.plot(epochs, val_acc, 'b', label = 'Validation acc')\n",
        "plt.title('Training and validatino accuracy')\n",
        "plt.legend()\n",
        "\n",
        "plt.figure()\n",
        "\n",
        "plt.plot(epochs, loss, 'bo', label = 'Training loss')\n",
        "plt.plot(epochs, val_loss, 'b', label = 'Validatino loss')\n",
        "plt.title('Training and validation loss')\n",
        "plt.legend()\n",
        "\n",
        "plt.show()"
      ],
      "execution_count": null,
      "outputs": [
        {
          "output_type": "display_data",
          "data": {
            "image/png": "[encoded data removed]",
            "text/plain": [
              "<Figure size 432x288 with 1 Axes>"
            ]
          },
          "metadata": {
            "tags": [],
            "needs_background": "light"
          }
        },
        {
          "output_type": "display_data",
          "data": {
            "image/png": "[encoded data removed]",
            "text/plain": [
              "<Figure size 432x288 with 1 Axes>"
            ]
          },
          "metadata": {
            "tags": [],
            "needs_background": "light"
          }
        }
      ]
    },
    {
      "cell_type": "code",
      "metadata": {
        "colab": {
          "base_uri": "https://localhost:8080/"
        },
        "id": "VFtIYsIDpGMT",
        "outputId": "b7c4fcaf-5c3f-4f8d-fb0f-19c7396dd3e0"
      },
      "source": [
        "from keras.layers import LSTM\n",
        "\n",
        "model = Sequential()\n",
        "model.add(Embedding(max_features,32))\n",
        "model.add(LSTM(32))\n",
        "model.add(Dense(1, activation ='sigmoid'))\n",
        "\n",
        "model.compile(optimizer = 'rmsprop', loss='binary_crossentropy', metrics = ['acc'])\n",
        "history = model.fit(input_train, y_train, epochs = 10, batch_size = 128, validation_split = 0.2)"
      ],
      "execution_count": null,
      "outputs": [
        {
          "output_type": "stream",
          "text": [
            "Epoch 1/10\n",
            "157/157 [==============================] - 56s 334ms/step - loss: 0.5915 - acc: 0.6659 - val_loss: 0.3533 - val_acc: 0.8542\n",
            "Epoch 2/10\n",
            "157/157 [==============================] - 52s 333ms/step - loss: 0.2997 - acc: 0.8826 - val_loss: 0.3302 - val_acc: 0.8600\n",
            "Epoch 3/10\n",
            "157/157 [==============================] - 54s 342ms/step - loss: 0.2274 - acc: 0.9138 - val_loss: 0.3031 - val_acc: 0.8754\n",
            "Epoch 4/10\n",
            "157/157 [==============================] - 53s 339ms/step - loss: 0.1905 - acc: 0.9322 - val_loss: 0.3155 - val_acc: 0.8666\n",
            "Epoch 5/10\n",
            "157/157 [==============================] - 52s 334ms/step - loss: 0.1629 - acc: 0.9420 - val_loss: 0.2899 - val_acc: 0.8856\n",
            "Epoch 6/10\n",
            "157/157 [==============================] - 53s 337ms/step - loss: 0.1570 - acc: 0.9443 - val_loss: 0.3000 - val_acc: 0.8786\n",
            "Epoch 7/10\n",
            "157/157 [==============================] - 52s 332ms/step - loss: 0.1382 - acc: 0.9495 - val_loss: 0.4001 - val_acc: 0.8740\n",
            "Epoch 8/10\n",
            "157/157 [==============================] - 52s 333ms/step - loss: 0.1232 - acc: 0.9585 - val_loss: 0.3455 - val_acc: 0.8678\n",
            "Epoch 9/10\n",
            "157/157 [==============================] - 52s 334ms/step - loss: 0.1124 - acc: 0.9627 - val_loss: 0.3188 - val_acc: 0.8692\n",
            "Epoch 10/10\n",
            "157/157 [==============================] - 52s 331ms/step - loss: 0.1042 - acc: 0.9662 - val_loss: 1.0850 - val_acc: 0.7530\n"
          ],
          "name": "stdout"
        }
      ]
    },
    {
      "cell_type": "code",
      "metadata": {
        "id": "-_mbxqJnswFK"
      },
      "source": [
        "import matplotlib.pyplot as plt\n",
        "\n",
        "acc = history.history['acc']\n",
        "val_acc = history.history['val_acc']\n",
        "loss = history.history['loss']\n",
        "val_loss = history.history['val_loss']\n",
        "\n",
        "epochs = range(1,len(acc)+1)\n",
        "\n",
        "plt.plot(epochs, acc,'bo',label = 'Training acc')\n",
        "plt.plot(epochs, val_acc, 'b', label = 'Validation acc')\n",
        "plt.title('Training and validatino accuracy')\n",
        "plt.legend()\n",
        "\n",
        "plt.figure()\n",
        "\n",
        "plt.plot(epochs, loss, 'bo', label = 'Training loss')\n",
        "plt.plot(epochs, val_loss, 'b', label = 'Validatino loss')\n",
        "plt.title('Training and validation loss')\n",
        "plt.legend()\n",
        "\n",
        "plt.show()"
      ],
      "execution_count": null,
      "outputs": []
    }
  ]
}